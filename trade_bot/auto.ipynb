{
 "cells": [
  {
   "cell_type": "code",
   "execution_count": 1,
   "id": "f849bcb1-1dfd-42b8-93f9-73069b5db923",
   "metadata": {},
   "outputs": [
    {
     "name": "stdout",
     "output_type": "stream",
     "text": [
      "Successfully logged into demo account 5030388664\n"
     ]
    }
   ],
   "source": [
    "import MetaTrader5 as mt5\n",
    "import pandas as pd\n",
    "import time\n",
    "\n",
    "# Initialize MT5 terminal\n",
    "if not mt5.initialize():\n",
    "    print(\"Failed to initialize MT5:\", mt5.last_error())\n",
    "else:\n",
    "    \n",
    "    account_number = 5030388664 \n",
    "    password = \"Hj*7ZaFj\"  \n",
    "    server = \"MetaQuotes-Demo\"  \n",
    "    \n",
    "    if mt5.login(account_number, password=password, server=server):\n",
    "        print(f\"Successfully logged into demo account {account_number}\")\n",
    "    else:\n",
    "        error_code, error_message = mt5.last_error()\n",
    "        print(f\"Login failed. Error code: {error_code}, Message: {error_message}\")\n",
    "\n",
    "    # mt5.shutdown()\n"
   ]
  },
  {
   "cell_type": "code",
   "execution_count": 2,
   "id": "ff3e6a01-627c-4302-863c-faf83fe04251",
   "metadata": {},
   "outputs": [
    {
     "name": "stdout",
     "output_type": "stream",
     "text": [
      "EURUSD details: Tick(time=1729295937, bid=1.08666, ask=1.08684, last=0.0, volume=0, time_msc=1729295937377, flags=6, volume_real=0.0)\n",
      "Latest tick for EURUSD: Tick(time=1729295937, bid=1.08666, ask=1.08684, last=0.0, volume=0, time_msc=1729295937377, flags=6, volume_real=0.0)\n"
     ]
    }
   ],
   "source": [
    "# Get information about a symbol\n",
    "symbol = \"EURUSD\"\n",
    "symbol_info = mt5.symbol_info_tick(symbol)\n",
    "# sy = mt5.symbol_select(symbol,True)\n",
    "# print(sy)\n",
    "\n",
    "if symbol_info is None:\n",
    "    print(f\"{symbol} not found {mt5.last_error()}\")\n",
    "else:\n",
    "    print(f\"{symbol} details:\", symbol_info)\n",
    "    \n",
    "# Get the latest tick data\n",
    "tick = mt5.symbol_info_tick(symbol)\n",
    "print(f\"Latest tick for {symbol}: {tick}\")\n"
   ]
  },
  {
   "cell_type": "code",
   "execution_count": 3,
   "id": "baa064f8-9f2f-4681-ac09-9ce22c510c55",
   "metadata": {},
   "outputs": [
    {
     "name": "stdout",
     "output_type": "stream",
     "text": [
      "1.08684\n",
      "1.08666\n"
     ]
    }
   ],
   "source": [
    "print(mt5.symbol_info_tick('EURUSD').ask)\n",
    "print(mt5.symbol_info_tick('EURUSD').bid)"
   ]
  },
  {
   "cell_type": "code",
   "execution_count": 4,
   "id": "7294c93a-3952-4ab9-b88f-8f0ef36257e2",
   "metadata": {},
   "outputs": [
    {
     "name": "stdout",
     "output_type": "stream",
     "text": [
      "OrderSendResult(retcode=10018, deal=0, order=0, volume=0.0, price=0.0, bid=0.0, ask=0.0, comment='Market closed', request_id=1365805602, retcode_external=0, request=TradeRequest(action=1, magic=0, order=0, symbol='EURUSD', volume=0.1, price=1.08684, stoplimit=0.0, sl=0.0, tp=0.0, deviation=50, type=0, type_filling=0, type_time=0, expiration=0, comment='Automated trade', position=0, position_by=0))\n",
      "Order send failed, retcode: 10018 (1, 'Success')\n"
     ]
    }
   ],
   "source": [
    "symbol = 'EURUSD'\n",
    "rates = mt5.copy_rates_from_pos(symbol, mt5.TIMEFRAME_M1, 0, 100)\n",
    "\n",
    "if rates is None:\n",
    "    print(f\"Failed to get rates for {symbol}\")\n",
    "\n",
    "\n",
    "def place_buy_order(symbol, lot_size):\n",
    "        # lot_size = 0.1  # Specify the lot size\n",
    "        price = mt5.symbol_info_tick(symbol).ask# Get the ask price\n",
    "        # price = mt5.symbol_info_tick(symbol).ask  #if signal == 'buy' else mt5.symbol_info_tick(symbol).bid\n",
    "        deviation = 50  # Specify the allowed deviation in points\n",
    "        \n",
    "        request = {\n",
    "            \"action\": mt5.TRADE_ACTION_DEAL,\n",
    "            \"symbol\": symbol,\n",
    "            \"volume\": lot_size,\n",
    "            \"type\": mt5.ORDER_TYPE_BUY,\n",
    "            \"price\": price,\n",
    "            \"deviation\": deviation,\n",
    "            # \"magic\": 30,  # Magic number for your EA\n",
    "            \"comment\": \"Automated trade\",\n",
    "            \"type_time\": mt5.ORDER_TIME_GTC,  # Good till cancelled\n",
    "            # \"type_filling\": mt5.ORDER_FILLING_IOC,\n",
    "        }\n",
    "        \n",
    "        # print(request)\n",
    "        result = mt5.order_send(request)   \n",
    "        print(result)\n",
    "    \n",
    "        if result.retcode != mt5.TRADE_RETCODE_DONE:\n",
    "            print(f\"Order send failed, retcode: {result.retcode} {mt5.last_error()}\")\n",
    "        else:\n",
    "            print(f\"Order send succeeded: {result}\")\n",
    "\n",
    "# Call this function based on your ML model signal\n",
    "place_buy_order(symbol, 0.1)\n",
    "\n",
    "\n"
   ]
  },
  {
   "cell_type": "code",
   "execution_count": 7,
   "id": "54225fef-0c50-48db-8711-5b267c2c088f",
   "metadata": {},
   "outputs": [],
   "source": [
    "import time\n",
    "def get_latest_candle(symbol, timeframe):\n",
    "    rates = mt5.copy_rates_from_pos(symbol, timeframe, 0, 1)\n",
    "    data = pd.DataFrame(rates)\n",
    "    data['time'] = pd.to_datetime(data['time'], unit='s')\n",
    "    print(f\"Latest candle data for {symbol}:\")\n",
    "    data = pd.DataFrame(data)\n",
    "    print(data)\n"
   ]
  },
  {
   "cell_type": "code",
   "execution_count": 6,
   "id": "d3a95ab3-e88f-404b-9d20-cda193ab4d4c",
   "metadata": {},
   "outputs": [
    {
     "name": "stdout",
     "output_type": "stream",
     "text": [
      "Latest candle data for EURUSD:\n",
      "                 time     open     high      low    close  tick_volume  \\\n",
      "0 2024-10-18 23:58:00  1.08666  1.08669  1.08664  1.08666           23   \n",
      "\n",
      "   spread  real_volume  \n",
      "0      13            0  \n",
      "buy\n",
      "Latest candle data for EURUSD:\n",
      "                 time     open     high      low    close  tick_volume  \\\n",
      "0 2024-10-18 23:58:00  1.08666  1.08669  1.08664  1.08666           23   \n",
      "\n",
      "   spread  real_volume  \n",
      "0      13            0  \n",
      "buy\n",
      "Latest candle data for EURUSD:\n",
      "                 time     open     high      low    close  tick_volume  \\\n",
      "0 2024-10-18 23:58:00  1.08666  1.08669  1.08664  1.08666           23   \n",
      "\n",
      "   spread  real_volume  \n",
      "0      13            0  \n",
      "buy\n",
      "Latest candle data for EURUSD:\n",
      "                 time     open     high      low    close  tick_volume  \\\n",
      "0 2024-10-18 23:58:00  1.08666  1.08669  1.08664  1.08666           23   \n",
      "\n",
      "   spread  real_volume  \n",
      "0      13            0  \n",
      "buy\n",
      "Latest candle data for EURUSD:\n",
      "                 time     open     high      low    close  tick_volume  \\\n",
      "0 2024-10-18 23:58:00  1.08666  1.08669  1.08664  1.08666           23   \n",
      "\n",
      "   spread  real_volume  \n",
      "0      13            0  \n",
      "buy\n",
      "Latest candle data for EURUSD:\n",
      "                 time     open     high      low    close  tick_volume  \\\n",
      "0 2024-10-18 23:58:00  1.08666  1.08669  1.08664  1.08666           23   \n",
      "\n",
      "   spread  real_volume  \n",
      "0      13            0  \n",
      "buy\n"
     ]
    },
    {
     "ename": "KeyboardInterrupt",
     "evalue": "",
     "output_type": "error",
     "traceback": [
      "\u001b[1;31m---------------------------------------------------------------------------\u001b[0m",
      "\u001b[1;31mKeyboardInterrupt\u001b[0m                         Traceback (most recent call last)",
      "Cell \u001b[1;32mIn[6], line 15\u001b[0m\n\u001b[0;32m      9\u001b[0m \u001b[38;5;66;03m# Send order only if the signal changed\u001b[39;00m\n\u001b[0;32m     10\u001b[0m \u001b[38;5;66;03m# if signal != last_signal:\u001b[39;00m\n\u001b[0;32m     11\u001b[0m \u001b[38;5;66;03m#     send_order(symbol, signal)\u001b[39;00m\n\u001b[0;32m     12\u001b[0m \u001b[38;5;66;03m#     last_signal = signal\u001b[39;00m\n\u001b[0;32m     13\u001b[0m \u001b[38;5;28mprint\u001b[39m(signal)\n\u001b[1;32m---> 15\u001b[0m time\u001b[38;5;241m.\u001b[39msleep(\u001b[38;5;241m60\u001b[39m)\n",
      "\u001b[1;31mKeyboardInterrupt\u001b[0m: "
     ]
    }
   ],
   "source": [
    "while True:\n",
    "        # Get new data and predict the signal\n",
    "        X_new = get_latest_candle(\"EURUSD\", mt5.TIMEFRAME_M1)\n",
    "        # y_pred = model.predict(X_new)\n",
    "\n",
    "        # Map model output to trading signals\n",
    "        signal = 'buy' #if y_pred == 1 else 'sell'\n",
    "        \n",
    "        # Send order only if the signal changed\n",
    "        # if signal != last_signal:\n",
    "        #     send_order(symbol, signal)\n",
    "        #     last_signal = signal\n",
    "        print(signal)\n",
    "\n",
    "        time.sleep(60)\n",
    "# "
   ]
  },
  {
   "cell_type": "code",
   "execution_count": null,
   "id": "06b12df5-32ea-441c-9d17-4b655a96f747",
   "metadata": {},
   "outputs": [],
   "source": []
  },
  {
   "cell_type": "code",
   "execution_count": null,
   "id": "f162eff6-8499-490c-92b3-5debeb7ba8f1",
   "metadata": {},
   "outputs": [],
   "source": []
  },
  {
   "cell_type": "code",
   "execution_count": null,
   "id": "9827f0ab-348b-4187-9e85-a63216c17510",
   "metadata": {},
   "outputs": [],
   "source": []
  }
 ],
 "metadata": {
  "kernelspec": {
   "display_name": "Python 3 (ipykernel)",
   "language": "python",
   "name": "python3"
  },
  "language_info": {
   "codemirror_mode": {
    "name": "ipython",
    "version": 3
   },
   "file_extension": ".py",
   "mimetype": "text/x-python",
   "name": "python",
   "nbconvert_exporter": "python",
   "pygments_lexer": "ipython3",
   "version": "3.12.4"
  }
 },
 "nbformat": 4,
 "nbformat_minor": 5
}
