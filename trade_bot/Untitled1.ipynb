{
 "cells": [
  {
   "cell_type": "code",
   "execution_count": 1,
   "id": "fa289424-82a8-44c7-b75f-437ed9eaea3f",
   "metadata": {},
   "outputs": [
    {
     "data": {
      "text/plain": [
       "'2339356968832move_button'"
      ]
     },
     "execution_count": 1,
     "metadata": {},
     "output_type": "execute_result"
    }
   ],
   "source": [
    "import tkinter as tk\n",
    "import random\n",
    "def show_popup():\n",
    "    popup = tk.Toplevel(root)\n",
    "    popup.title(\"Popup\")\n",
    "    label = tk.Label(popup, text=(\"Thanks for Accepting My Love !!\"),font=(\"\",\"15\",\"\"))\n",
    "    label.pack(padx=50, pady=50)\n",
    "def move_button(event):\n",
    "    x = random.randint(0, 550)\n",
    "    y = random.randint(0, 550)\n",
    "    no_button.place(x=x, y=y)\n",
    "root = tk.Tk()\n",
    "root.title(\"Funny Luv\")\n",
    "root.geometry(\"1800x980\")\n",
    "root.config(bg=\"pink\")\n",
    "question_label = tk.Label(root, text=\"I Love You!....\\n\\n Do you like me?\",font=(\"\"\",\"18\",\"\"\"))\n",
    "question_label.pack(pady=57)\n",
    "yes_button = tk.Button(root, text=\"Yes\", font=(\"\",\"14\",\"\"), command=show_popup)\n",
    "yes_button.pack()\n",
    "no_button = tk.Button(root, text=\"No\",font=(\"\",\"14\",\"\"))\n",
    "no_button.pack()\n",
    "no_button.bind(\"<Enter>\", move_button)"
   ]
  },
  {
   "cell_type": "code",
   "execution_count": null,
   "id": "f68a6dcc-3db5-4abe-8cf5-f1998ed8790c",
   "metadata": {},
   "outputs": [],
   "source": []
  }
 ],
 "metadata": {
  "kernelspec": {
   "display_name": "Python 3 (ipykernel)",
   "language": "python",
   "name": "python3"
  },
  "language_info": {
   "codemirror_mode": {
    "name": "ipython",
    "version": 3
   },
   "file_extension": ".py",
   "mimetype": "text/x-python",
   "name": "python",
   "nbconvert_exporter": "python",
   "pygments_lexer": "ipython3",
   "version": "3.12.4"
  }
 },
 "nbformat": 4,
 "nbformat_minor": 5
}
